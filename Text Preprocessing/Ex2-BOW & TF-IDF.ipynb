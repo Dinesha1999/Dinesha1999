{
 "cells": [
  {
   "cell_type": "markdown",
   "id": "5b2467d1-e918-40c9-95ce-6a662295612b",
   "metadata": {},
   "source": [
    "# BOW(Bag of word)"
   ]
  },
  {
   "cell_type": "markdown",
   "id": "23a01550-a39c-4eb7-82c1-0ee121d1a3b1",
   "metadata": {},
   "source": [
    "### Install Packages"
   ]
  },
  {
   "cell_type": "code",
   "execution_count": null,
   "id": "1a875971-3daf-418b-8bdb-053ee43c14f6",
   "metadata": {
    "scrolled": true
   },
   "outputs": [],
   "source": [
    "!pip install numpy\n",
    "!pip install pandas\n",
    "!pip install scikit-Learn"
   ]
  },
  {
   "cell_type": "markdown",
   "id": "1ab671b9-29b2-4089-9224-83f23ec1e535",
   "metadata": {},
   "source": [
    "### Import Libraries"
   ]
  },
  {
   "cell_type": "code",
   "execution_count": 2,
   "id": "eedd71d3-a90f-4e19-9a9a-849cfecb56d9",
   "metadata": {},
   "outputs": [],
   "source": [
    "import numpy as np\n",
    "import pandas as pd\n",
    "from sklearn.feature_extraction.text import CountVectorizer,TfidfVectorizer\n",
    "# CountVectorizer library use to vectorize the BOW and TfidfVectorizer library use to vectorize TFIDF"
   ]
  },
  {
   "cell_type": "markdown",
   "id": "f77d84a8-a77c-47b4-b402-6d2afa3d09cc",
   "metadata": {},
   "source": [
    "### Creating a corpus(Which is a sentences array/list)"
   ]
  },
  {
   "cell_type": "code",
   "execution_count": 3,
   "id": "f11cc441-bb64-4679-8481-c4bd34ce6655",
   "metadata": {},
   "outputs": [],
   "source": [
    "#mainly BOW use to just get the idea if these words include or not.stop the non essentional  words.\n",
    "#import words(vocabluary)of below corpus : ,the,cat,sat,on,mat,dog.followed,cliembed,tree.according these words create a vector.according each words if include in the main verctor.it get 1 or 0.\n",
    "corpus = ['The cat sat on the mat', 'The dog followed the cat' , 'The cat climbed on the tree']\n",
    "#ex:[1,1,1,1,1,0,0,0,0]-->1st sentence vector"
   ]
  },
  {
   "cell_type": "markdown",
   "id": "6152a1af-2356-4734-81f8-af0017446f0e",
   "metadata": {},
   "source": [
    "### Verctorizing the sentences"
   ]
  },
  {
   "cell_type": "code",
   "execution_count": 4,
   "id": "521257ad-70cf-4f99-96c7-a08ed9918d58",
   "metadata": {},
   "outputs": [],
   "source": [
    "vectorizer = CountVectorizer(binary=True)"
   ]
  },
  {
   "cell_type": "code",
   "execution_count": 5,
   "id": "efd21577-1c27-4a62-b3f6-fde4e39e5223",
   "metadata": {},
   "outputs": [],
   "source": [
    "X = vectorizer.fit_transform(corpus)\n",
    "#passed the corpus into x.x is like sparse metrics"
   ]
  },
  {
   "cell_type": "code",
   "execution_count": 6,
   "id": "8ea13d4f-8f16-49a4-8b51-f44ad4f77be4",
   "metadata": {},
   "outputs": [
    {
     "data": {
      "text/plain": [
       "<Compressed Sparse Row sparse matrix of dtype 'int64'\n",
       "\twith 14 stored elements and shape (3, 9)>"
      ]
     },
     "execution_count": 6,
     "metadata": {},
     "output_type": "execute_result"
    }
   ],
   "source": [
    "X"
   ]
  },
  {
   "cell_type": "markdown",
   "id": "fad88e14-4b58-46e7-ad8b-71db71c16083",
   "metadata": {},
   "source": [
    "### Converting sparse matrix into the array"
   ]
  },
  {
   "cell_type": "markdown",
   "id": "87281634-3cd4-42e8-9daa-5876095dd988",
   "metadata": {},
   "source": [
    "#### Way(I)"
   ]
  },
  {
   "cell_type": "code",
   "execution_count": 7,
   "id": "6b486a53-eb2c-42da-89e0-ad488191f2dc",
   "metadata": {},
   "outputs": [],
   "source": [
    "bow_array = X.toarray()"
   ]
  },
  {
   "cell_type": "code",
   "execution_count": 8,
   "id": "3b2da3f7-63ad-413b-86a2-d4d23eb26eae",
   "metadata": {},
   "outputs": [
    {
     "data": {
      "text/plain": [
       "array([[1, 0, 0, 0, 1, 1, 1, 1, 0],\n",
       "       [1, 0, 1, 1, 0, 0, 0, 1, 0],\n",
       "       [1, 1, 0, 0, 0, 1, 0, 1, 1]])"
      ]
     },
     "execution_count": 8,
     "metadata": {},
     "output_type": "execute_result"
    }
   ],
   "source": [
    "bow_array"
   ]
  },
  {
   "cell_type": "markdown",
   "id": "b2150a84-f9ad-42cd-88bd-42073389e628",
   "metadata": {},
   "source": [
    "#### Way(II)"
   ]
  },
  {
   "cell_type": "code",
   "execution_count": 9,
   "id": "f2c6e992-a024-4398-b902-73702b647e16",
   "metadata": {},
   "outputs": [],
   "source": [
    "bow=pd.DataFrame(bow_array,columns=vectorizer.get_feature_names_out())\n"
   ]
  },
  {
   "cell_type": "code",
   "execution_count": 10,
   "id": "2db4e1b5-4e4e-4547-bdbe-0331f44d71d0",
   "metadata": {},
   "outputs": [
    {
     "data": {
      "text/html": [
       "<div>\n",
       "<style scoped>\n",
       "    .dataframe tbody tr th:only-of-type {\n",
       "        vertical-align: middle;\n",
       "    }\n",
       "\n",
       "    .dataframe tbody tr th {\n",
       "        vertical-align: top;\n",
       "    }\n",
       "\n",
       "    .dataframe thead th {\n",
       "        text-align: right;\n",
       "    }\n",
       "</style>\n",
       "<table border=\"1\" class=\"dataframe\">\n",
       "  <thead>\n",
       "    <tr style=\"text-align: right;\">\n",
       "      <th></th>\n",
       "      <th>cat</th>\n",
       "      <th>climbed</th>\n",
       "      <th>dog</th>\n",
       "      <th>followed</th>\n",
       "      <th>mat</th>\n",
       "      <th>on</th>\n",
       "      <th>sat</th>\n",
       "      <th>the</th>\n",
       "      <th>tree</th>\n",
       "    </tr>\n",
       "  </thead>\n",
       "  <tbody>\n",
       "    <tr>\n",
       "      <th>0</th>\n",
       "      <td>1</td>\n",
       "      <td>0</td>\n",
       "      <td>0</td>\n",
       "      <td>0</td>\n",
       "      <td>1</td>\n",
       "      <td>1</td>\n",
       "      <td>1</td>\n",
       "      <td>1</td>\n",
       "      <td>0</td>\n",
       "    </tr>\n",
       "    <tr>\n",
       "      <th>1</th>\n",
       "      <td>1</td>\n",
       "      <td>0</td>\n",
       "      <td>1</td>\n",
       "      <td>1</td>\n",
       "      <td>0</td>\n",
       "      <td>0</td>\n",
       "      <td>0</td>\n",
       "      <td>1</td>\n",
       "      <td>0</td>\n",
       "    </tr>\n",
       "    <tr>\n",
       "      <th>2</th>\n",
       "      <td>1</td>\n",
       "      <td>1</td>\n",
       "      <td>0</td>\n",
       "      <td>0</td>\n",
       "      <td>0</td>\n",
       "      <td>1</td>\n",
       "      <td>0</td>\n",
       "      <td>1</td>\n",
       "      <td>1</td>\n",
       "    </tr>\n",
       "  </tbody>\n",
       "</table>\n",
       "</div>"
      ],
      "text/plain": [
       "   cat  climbed  dog  followed  mat  on  sat  the  tree\n",
       "0    1        0    0         0    1   1    1    1     0\n",
       "1    1        0    1         1    0   0    0    1     0\n",
       "2    1        1    0         0    0   1    0    1     1"
      ]
     },
     "execution_count": 10,
     "metadata": {},
     "output_type": "execute_result"
    }
   ],
   "source": [
    "bow\n"
   ]
  },
  {
   "cell_type": "markdown",
   "id": "4eeba686-bc9b-4243-8c64-86edb9227671",
   "metadata": {},
   "source": [
    "## TF-IDF(Term Frequency-Inverse Document Frequency)"
   ]
  },
  {
   "cell_type": "code",
   "execution_count": 11,
   "id": "92735ca0-e8a6-4a52-9afa-d2b090a3860a",
   "metadata": {},
   "outputs": [],
   "source": [
    "vectorizer2 = TfidfVectorizer()"
   ]
  },
  {
   "cell_type": "code",
   "execution_count": 12,
   "id": "eb073869-37c1-4ed5-a906-4052c707c8c3",
   "metadata": {},
   "outputs": [],
   "source": [
    "X2 = vectorizer2.fit_transform(corpus)"
   ]
  },
  {
   "cell_type": "code",
   "execution_count": 13,
   "id": "e4093702-ae3e-442c-992d-10820462cde5",
   "metadata": {},
   "outputs": [],
   "source": [
    "tfidf_array =X2.toarray()"
   ]
  },
  {
   "cell_type": "code",
   "execution_count": 14,
   "id": "14247033-2c51-44aa-b122-3ede8bfa54ae",
   "metadata": {},
   "outputs": [
    {
     "data": {
      "text/plain": [
       "array([[0.28407693, 0.        , 0.        , 0.        , 0.48098405,\n",
       "        0.36580076, 0.48098405, 0.56815385, 0.        ],\n",
       "       [0.30523155, 0.        , 0.51680194, 0.51680194, 0.        ,\n",
       "        0.        , 0.        , 0.61046311, 0.        ],\n",
       "       [0.28407693, 0.48098405, 0.        , 0.        , 0.        ,\n",
       "        0.36580076, 0.        , 0.56815385, 0.48098405]])"
      ]
     },
     "execution_count": 14,
     "metadata": {},
     "output_type": "execute_result"
    }
   ],
   "source": [
    "tfidf_array"
   ]
  },
  {
   "cell_type": "code",
   "execution_count": 15,
   "id": "4c9fe3fa-bdca-4791-be08-939357b0c1d2",
   "metadata": {},
   "outputs": [],
   "source": [
    "tfidf=pd.DataFrame(tfidf_array,columns=vectorizer2.get_feature_names_out())"
   ]
  },
  {
   "cell_type": "code",
   "execution_count": 16,
   "id": "5914ce52-7d80-47be-8f76-e8aba78df447",
   "metadata": {},
   "outputs": [
    {
     "data": {
      "text/html": [
       "<div>\n",
       "<style scoped>\n",
       "    .dataframe tbody tr th:only-of-type {\n",
       "        vertical-align: middle;\n",
       "    }\n",
       "\n",
       "    .dataframe tbody tr th {\n",
       "        vertical-align: top;\n",
       "    }\n",
       "\n",
       "    .dataframe thead th {\n",
       "        text-align: right;\n",
       "    }\n",
       "</style>\n",
       "<table border=\"1\" class=\"dataframe\">\n",
       "  <thead>\n",
       "    <tr style=\"text-align: right;\">\n",
       "      <th></th>\n",
       "      <th>cat</th>\n",
       "      <th>climbed</th>\n",
       "      <th>dog</th>\n",
       "      <th>followed</th>\n",
       "      <th>mat</th>\n",
       "      <th>on</th>\n",
       "      <th>sat</th>\n",
       "      <th>the</th>\n",
       "      <th>tree</th>\n",
       "    </tr>\n",
       "  </thead>\n",
       "  <tbody>\n",
       "    <tr>\n",
       "      <th>0</th>\n",
       "      <td>0.284077</td>\n",
       "      <td>0.000000</td>\n",
       "      <td>0.000000</td>\n",
       "      <td>0.000000</td>\n",
       "      <td>0.480984</td>\n",
       "      <td>0.365801</td>\n",
       "      <td>0.480984</td>\n",
       "      <td>0.568154</td>\n",
       "      <td>0.000000</td>\n",
       "    </tr>\n",
       "    <tr>\n",
       "      <th>1</th>\n",
       "      <td>0.305232</td>\n",
       "      <td>0.000000</td>\n",
       "      <td>0.516802</td>\n",
       "      <td>0.516802</td>\n",
       "      <td>0.000000</td>\n",
       "      <td>0.000000</td>\n",
       "      <td>0.000000</td>\n",
       "      <td>0.610463</td>\n",
       "      <td>0.000000</td>\n",
       "    </tr>\n",
       "    <tr>\n",
       "      <th>2</th>\n",
       "      <td>0.284077</td>\n",
       "      <td>0.480984</td>\n",
       "      <td>0.000000</td>\n",
       "      <td>0.000000</td>\n",
       "      <td>0.000000</td>\n",
       "      <td>0.365801</td>\n",
       "      <td>0.000000</td>\n",
       "      <td>0.568154</td>\n",
       "      <td>0.480984</td>\n",
       "    </tr>\n",
       "  </tbody>\n",
       "</table>\n",
       "</div>"
      ],
      "text/plain": [
       "        cat   climbed       dog  followed       mat        on       sat  \\\n",
       "0  0.284077  0.000000  0.000000  0.000000  0.480984  0.365801  0.480984   \n",
       "1  0.305232  0.000000  0.516802  0.516802  0.000000  0.000000  0.000000   \n",
       "2  0.284077  0.480984  0.000000  0.000000  0.000000  0.365801  0.000000   \n",
       "\n",
       "        the      tree  \n",
       "0  0.568154  0.000000  \n",
       "1  0.610463  0.000000  \n",
       "2  0.568154  0.480984  "
      ]
     },
     "execution_count": 16,
     "metadata": {},
     "output_type": "execute_result"
    }
   ],
   "source": [
    "tfidf\n"
   ]
  },
  {
   "cell_type": "code",
   "execution_count": null,
   "id": "1726f587-874c-4fc2-9eb7-6fee61bac134",
   "metadata": {},
   "outputs": [],
   "source": []
  }
 ],
 "metadata": {
  "kernelspec": {
   "display_name": "Python 3 (ipykernel)",
   "language": "python",
   "name": "python3"
  },
  "language_info": {
   "codemirror_mode": {
    "name": "ipython",
    "version": 3
   },
   "file_extension": ".py",
   "mimetype": "text/x-python",
   "name": "python",
   "nbconvert_exporter": "python",
   "pygments_lexer": "ipython3",
   "version": "3.12.4"
  }
 },
 "nbformat": 4,
 "nbformat_minor": 5
}
