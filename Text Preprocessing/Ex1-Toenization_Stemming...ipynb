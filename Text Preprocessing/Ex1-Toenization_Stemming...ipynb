{
 "cells": [
  {
   "cell_type": "markdown",
   "id": "35f27022-f629-47eb-9df9-916eac8fe173",
   "metadata": {},
   "source": [
    "### TOKENIZATION"
   ]
  },
  {
   "cell_type": "code",
   "execution_count": 1,
   "id": "ed7e9659-4969-412f-9c1b-108c669a36cb",
   "metadata": {},
   "outputs": [
    {
     "name": "stdout",
     "output_type": "stream",
     "text": [
      "Defaulting to user installation because normal site-packages is not writeable\n",
      "Requirement already satisfied: nltk in c:\\users\\acer\\appdata\\roaming\\python\\python312\\site-packages (3.8.2)\n",
      "Requirement already satisfied: click in c:\\users\\acer\\appdata\\roaming\\python\\python312\\site-packages (from nltk) (8.1.7)\n",
      "Requirement already satisfied: joblib in c:\\users\\acer\\appdata\\roaming\\python\\python312\\site-packages (from nltk) (1.4.2)\n",
      "Requirement already satisfied: regex>=2021.8.3 in c:\\users\\acer\\appdata\\roaming\\python\\python312\\site-packages (from nltk) (2024.7.24)\n",
      "Requirement already satisfied: tqdm in c:\\users\\acer\\appdata\\roaming\\python\\python312\\site-packages (from nltk) (4.66.5)\n",
      "Requirement already satisfied: colorama in c:\\users\\acer\\appdata\\roaming\\python\\python312\\site-packages (from click->nltk) (0.4.6)\n"
     ]
    },
    {
     "name": "stderr",
     "output_type": "stream",
     "text": [
      "\n",
      "[notice] A new release of pip is available: 24.0 -> 24.2\n",
      "[notice] To update, run: python.exe -m pip install --upgrade pip\n"
     ]
    }
   ],
   "source": [
    "!pip install nltk\n",
    "import nltk\n",
    "\n",
    "\n"
   ]
  },
  {
   "cell_type": "code",
   "execution_count": 2,
   "id": "edac2eaf-5e9c-4378-8278-186f5e1d39ec",
   "metadata": {},
   "outputs": [],
   "source": [
    "text1 = \"Jupyter Notebooks are a community standard for communicating and performing interactive computing. They are a document that blends computations, outputs, explanatory text, mathematics, images, and rich media representations of objects.\""
   ]
  },
  {
   "cell_type": "code",
   "execution_count": 3,
   "id": "cd01bd05-c56a-4624-9af3-affaed178c99",
   "metadata": {},
   "outputs": [
    {
     "name": "stdout",
     "output_type": "stream",
     "text": [
      "Jupyter Notebooks are a community standard for communicating and performing interactive computing. They are a document that blends computations, outputs, explanatory text, mathematics, images, and rich media representations of objects.\n"
     ]
    }
   ],
   "source": [
    "print(text1)"
   ]
  },
  {
   "cell_type": "markdown",
   "id": "d3abd694-4c05-4003-acd9-7ef2b77726ef",
   "metadata": {},
   "source": [
    "## Tokenization(using inbuilding function)"
   ]
  },
  {
   "cell_type": "code",
   "execution_count": 4,
   "id": "285e66f5-94cd-47b6-976f-e37753562699",
   "metadata": {},
   "outputs": [],
   "source": [
    "words = nltk.word_tokenize(text1)"
   ]
  },
  {
   "cell_type": "code",
   "execution_count": 5,
   "id": "4495c72d-a772-4943-986f-9c33844b7f16",
   "metadata": {},
   "outputs": [
    {
     "data": {
      "text/plain": [
       "['Jupyter',\n",
       " 'Notebooks',\n",
       " 'are',\n",
       " 'a',\n",
       " 'community',\n",
       " 'standard',\n",
       " 'for',\n",
       " 'communicating',\n",
       " 'and',\n",
       " 'performing',\n",
       " 'interactive',\n",
       " 'computing',\n",
       " '.',\n",
       " 'They',\n",
       " 'are',\n",
       " 'a',\n",
       " 'document',\n",
       " 'that',\n",
       " 'blends',\n",
       " 'computations',\n",
       " ',',\n",
       " 'outputs',\n",
       " ',',\n",
       " 'explanatory',\n",
       " 'text',\n",
       " ',',\n",
       " 'mathematics',\n",
       " ',',\n",
       " 'images',\n",
       " ',',\n",
       " 'and',\n",
       " 'rich',\n",
       " 'media',\n",
       " 'representations',\n",
       " 'of',\n",
       " 'objects',\n",
       " '.']"
      ]
     },
     "execution_count": 5,
     "metadata": {},
     "output_type": "execute_result"
    }
   ],
   "source": [
    "words"
   ]
  },
  {
   "cell_type": "code",
   "execution_count": 6,
   "id": "2677c286-1ea8-445c-82b9-495e994f13cd",
   "metadata": {},
   "outputs": [
    {
     "data": {
      "text/plain": [
       "37"
      ]
     },
     "execution_count": 6,
     "metadata": {},
     "output_type": "execute_result"
    }
   ],
   "source": [
    "len(nltk.word_tokenize(text1))"
   ]
  },
  {
   "cell_type": "code",
   "execution_count": 7,
   "id": "14362d18-b081-4c1d-a70b-f48461e198b9",
   "metadata": {},
   "outputs": [
    {
     "data": {
      "text/plain": [
       "['Jupyter',\n",
       " 'Notebooks',\n",
       " 'are',\n",
       " 'a',\n",
       " 'community',\n",
       " 'standard',\n",
       " 'for',\n",
       " 'communicating',\n",
       " 'and',\n",
       " 'performing',\n",
       " 'interactive',\n",
       " 'computing.',\n",
       " 'They',\n",
       " 'are',\n",
       " 'a',\n",
       " 'document',\n",
       " 'that',\n",
       " 'blends',\n",
       " 'computations,',\n",
       " 'outputs,',\n",
       " 'explanatory',\n",
       " 'text,',\n",
       " 'mathematics,',\n",
       " 'images,',\n",
       " 'and',\n",
       " 'rich',\n",
       " 'media',\n",
       " 'representations',\n",
       " 'of',\n",
       " 'objects.']"
      ]
     },
     "execution_count": 7,
     "metadata": {},
     "output_type": "execute_result"
    }
   ],
   "source": [
    "text1.split(' ')"
   ]
  },
  {
   "cell_type": "code",
   "execution_count": 8,
   "id": "ca043bec-50af-4010-a5da-a70b8454ecb4",
   "metadata": {},
   "outputs": [
    {
     "data": {
      "text/plain": [
       "30"
      ]
     },
     "execution_count": 8,
     "metadata": {},
     "output_type": "execute_result"
    }
   ],
   "source": [
    "len(text1.split(' '))"
   ]
  },
  {
   "cell_type": "code",
   "execution_count": 9,
   "id": "a9d3a580-dda4-4c5f-bc22-c9035e25782d",
   "metadata": {},
   "outputs": [],
   "source": [
    "sentence =nltk.sent_tokenize(text1)"
   ]
  },
  {
   "cell_type": "code",
   "execution_count": 10,
   "id": "11ee5dbf-aaf1-47a7-a7f5-fd635a0ebeec",
   "metadata": {},
   "outputs": [
    {
     "data": {
      "text/plain": [
       "['Jupyter Notebooks are a community standard for communicating and performing interactive computing.',\n",
       " 'They are a document that blends computations, outputs, explanatory text, mathematics, images, and rich media representations of objects.']"
      ]
     },
     "execution_count": 10,
     "metadata": {},
     "output_type": "execute_result"
    }
   ],
   "source": [
    "sentence"
   ]
  },
  {
   "cell_type": "code",
   "execution_count": 11,
   "id": "2e07b2b3-bc48-48be-8e26-054fe4b44477",
   "metadata": {},
   "outputs": [
    {
     "data": {
      "text/plain": [
       "2"
      ]
     },
     "execution_count": 11,
     "metadata": {},
     "output_type": "execute_result"
    }
   ],
   "source": [
    "len(nltk.sent_tokenize(text1))"
   ]
  },
  {
   "cell_type": "markdown",
   "id": "04808d10-efd7-4c94-b52e-c63ae6b02e08",
   "metadata": {},
   "source": [
    "### NORMALIZING"
   ]
  },
  {
   "cell_type": "code",
   "execution_count": 12,
   "id": "1ef52ed5-c8f1-4992-80a0-782286ac41e1",
   "metadata": {},
   "outputs": [
    {
     "data": {
      "text/plain": [
       "'jupyter notebooks are a community standard for communicating and performing interactive computing. they are a document that blends computations, outputs, explanatory text, mathematics, images, and rich media representations of objects.'"
      ]
     },
     "execution_count": 12,
     "metadata": {},
     "output_type": "execute_result"
    }
   ],
   "source": [
    "text1.lower()"
   ]
  },
  {
   "cell_type": "code",
   "execution_count": 13,
   "id": "5e7c4a4c-0de0-448a-ba2c-2c99f355ad91",
   "metadata": {},
   "outputs": [
    {
     "data": {
      "text/plain": [
       "['jupyter',\n",
       " 'notebooks',\n",
       " 'are',\n",
       " 'a',\n",
       " 'community',\n",
       " 'standard',\n",
       " 'for',\n",
       " 'communicating',\n",
       " 'and',\n",
       " 'performing',\n",
       " 'interactive',\n",
       " 'computing.',\n",
       " 'they',\n",
       " 'are',\n",
       " 'a',\n",
       " 'document',\n",
       " 'that',\n",
       " 'blends',\n",
       " 'computations,',\n",
       " 'outputs,',\n",
       " 'explanatory',\n",
       " 'text,',\n",
       " 'mathematics,',\n",
       " 'images,',\n",
       " 'and',\n",
       " 'rich',\n",
       " 'media',\n",
       " 'representations',\n",
       " 'of',\n",
       " 'objects.']"
      ]
     },
     "execution_count": 13,
     "metadata": {},
     "output_type": "execute_result"
    }
   ],
   "source": [
    "text1.lower().split(' ')"
   ]
  },
  {
   "cell_type": "code",
   "execution_count": 14,
   "id": "da6f08d6-46c8-427d-9405-463dd6e9963e",
   "metadata": {},
   "outputs": [],
   "source": [
    "words2 =text1.lower().split(' ')"
   ]
  },
  {
   "cell_type": "code",
   "execution_count": 15,
   "id": "45272400-234e-4874-95f7-6d37c5009e7d",
   "metadata": {},
   "outputs": [
    {
     "data": {
      "text/plain": [
       "['jupyter',\n",
       " 'notebooks',\n",
       " 'are',\n",
       " 'a',\n",
       " 'community',\n",
       " 'standard',\n",
       " 'for',\n",
       " 'communicating',\n",
       " 'and',\n",
       " 'performing',\n",
       " 'interactive',\n",
       " 'computing.',\n",
       " 'they',\n",
       " 'are',\n",
       " 'a',\n",
       " 'document',\n",
       " 'that',\n",
       " 'blends',\n",
       " 'computations,',\n",
       " 'outputs,',\n",
       " 'explanatory',\n",
       " 'text,',\n",
       " 'mathematics,',\n",
       " 'images,',\n",
       " 'and',\n",
       " 'rich',\n",
       " 'media',\n",
       " 'representations',\n",
       " 'of',\n",
       " 'objects.']"
      ]
     },
     "execution_count": 15,
     "metadata": {},
     "output_type": "execute_result"
    }
   ],
   "source": [
    "words2\n",
    "#that is normalization of words"
   ]
  },
  {
   "cell_type": "code",
   "execution_count": null,
   "id": "c15e4f6e-20a0-4065-a7be-9539e0d3c954",
   "metadata": {},
   "outputs": [],
   "source": []
  },
  {
   "cell_type": "markdown",
   "id": "14b839e1-e526-43e3-9443-4c1f181b636c",
   "metadata": {},
   "source": [
    "### STEMMING(fine the root word)"
   ]
  },
  {
   "cell_type": "markdown",
   "id": "4c3fb53b-91c1-453c-bfd6-c52fd62a647d",
   "metadata": {},
   "source": [
    "#### EX1:"
   ]
  },
  {
   "cell_type": "code",
   "execution_count": 16,
   "id": "029485bf-b2dd-4762-980a-39ce3c6b542b",
   "metadata": {},
   "outputs": [],
   "source": [
    "text2 =\"Work works working worked workings\""
   ]
  },
  {
   "cell_type": "code",
   "execution_count": 17,
   "id": "a0337493-63d9-4a89-a20d-344b821ce731",
   "metadata": {},
   "outputs": [],
   "source": [
    "porter = nltk.PorterStemmer()\n",
    "#this is the function for stemming and this is a object of porterstemming class"
   ]
  },
  {
   "cell_type": "code",
   "execution_count": 18,
   "id": "df0e7089-372e-493a-81aa-78a17409b26f",
   "metadata": {},
   "outputs": [],
   "source": [
    "words3 =text2.lower().split(' ')"
   ]
  },
  {
   "cell_type": "code",
   "execution_count": 19,
   "id": "34fc04c9-19b8-42b9-bb6d-604f2c42299f",
   "metadata": {},
   "outputs": [
    {
     "name": "stdout",
     "output_type": "stream",
     "text": [
      "['work', 'works', 'working', 'worked', 'workings']\n"
     ]
    }
   ],
   "source": [
    "print(words3)"
   ]
  },
  {
   "cell_type": "code",
   "execution_count": 20,
   "id": "7bfa77ad-c58f-4b99-9fc8-704d04f26b50",
   "metadata": {},
   "outputs": [
    {
     "data": {
      "text/plain": [
       "['work', 'work', 'work', 'work', 'work']"
      ]
     },
     "execution_count": 20,
     "metadata": {},
     "output_type": "execute_result"
    }
   ],
   "source": [
    "[porter.stem(w) for w in words3]"
   ]
  },
  {
   "cell_type": "markdown",
   "id": "d8d8320e-1617-4273-9599-5ce1c5838bc9",
   "metadata": {},
   "source": [
    "#### Ex2"
   ]
  },
  {
   "cell_type": "code",
   "execution_count": 21,
   "id": "8a061b33-f373-4175-83da-768f29987e83",
   "metadata": {},
   "outputs": [
    {
     "name": "stdout",
     "output_type": "stream",
     "text": [
      "eating | eat\n",
      "eats | eat\n",
      "eat | eat\n",
      "ate | ate\n",
      "adjustable | adjust\n",
      "rafting | raft\n",
      "ability | abil\n",
      "meeting | meet\n"
     ]
    }
   ],
   "source": [
    "from nltk.stem import PorterStemmer\n",
    "stemmer =PorterStemmer()\n",
    "wordss =[\"eating\",\"eats\",\"eat\",\"ate\",\"adjustable\",\"rafting\",\"ability\",\"meeting\"]\n",
    "\n",
    "for word in wordss:\n",
    "    print(word,\"|\",stemmer.stem(word))"
   ]
  },
  {
   "cell_type": "markdown",
   "id": "da3e93ea-8940-437f-b278-8103e6caeaaa",
   "metadata": {},
   "source": [
    "### Lemmatization"
   ]
  },
  {
   "cell_type": "markdown",
   "id": "8b49a71b-55c2-4064-89ea-2ef65fec2e6f",
   "metadata": {},
   "source": [
    "#### Ex1"
   ]
  },
  {
   "cell_type": "code",
   "execution_count": 22,
   "id": "8143e726-b611-47f7-a3fa-33d5b2fec59a",
   "metadata": {},
   "outputs": [],
   "source": [
    "from nltk.stem import WordNetLemmatizer"
   ]
  },
  {
   "cell_type": "code",
   "execution_count": 23,
   "id": "db69b00b-e865-4642-a1cd-951294737740",
   "metadata": {
    "scrolled": true
   },
   "outputs": [
    {
     "name": "stdout",
     "output_type": "stream",
     "text": [
      "programmer  :  programmer\n",
      "programme  :  programme\n",
      "programs  :  program\n"
     ]
    }
   ],
   "source": [
    "wnl = WordNetLemmatizer()\n",
    "words =[\"programmer\",\"programme\",\"programs\"]\n",
    "for w in words:\n",
    "    print(w, \" : \", wnl.lemmatize(w))"
   ]
  },
  {
   "cell_type": "markdown",
   "id": "5257f6fc-7f30-4875-b397-5c06b3a6c4a0",
   "metadata": {},
   "source": [
    "#### Ex2"
   ]
  },
  {
   "cell_type": "code",
   "execution_count": 24,
   "id": "2d80001c-d28a-405c-93c3-8d87bb96df62",
   "metadata": {},
   "outputs": [
    {
     "name": "stdout",
     "output_type": "stream",
     "text": [
      "eating  :  eating\n",
      "eats  :  eats\n",
      "eat  :  eat\n",
      "ate  :  ate\n",
      "adjustable  :  adjustable\n",
      "rafting  :  rafting\n",
      "ability  :  ability\n",
      "meeting  :  meeting\n"
     ]
    }
   ],
   "source": [
    "words =[\"eating\",\"eats\",\"eat\",\"ate\",\"adjustable\",\"rafting\",\"ability\",\"meeting\"]\n",
    "for w in words:\n",
    "    print(w, \" : \", wnl.lemmatize(w))"
   ]
  },
  {
   "cell_type": "code",
   "execution_count": null,
   "id": "a7fc855b-e844-4424-a79d-bc7c608097b6",
   "metadata": {},
   "outputs": [],
   "source": []
  }
 ],
 "metadata": {
  "kernelspec": {
   "display_name": "Python 3 (ipykernel)",
   "language": "python",
   "name": "python3"
  },
  "language_info": {
   "codemirror_mode": {
    "name": "ipython",
    "version": 3
   },
   "file_extension": ".py",
   "mimetype": "text/x-python",
   "name": "python",
   "nbconvert_exporter": "python",
   "pygments_lexer": "ipython3",
   "version": "3.12.4"
  }
 },
 "nbformat": 4,
 "nbformat_minor": 5
}
